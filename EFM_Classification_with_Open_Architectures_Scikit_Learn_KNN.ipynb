{
  "nbformat": 4,
  "nbformat_minor": 0,
  "metadata": {
    "colab": {
      "provenance": []
    },
    "kernelspec": {
      "name": "python3",
      "display_name": "Python 3"
    },
    "language_info": {
      "name": "python"
    }
  },
  "cells": [
    {
      "cell_type": "markdown",
      "source": [
        "# Digitize 3 Training Classes"
      ],
      "metadata": {
        "id": "TixcrdEDzIR0"
      }
    },
    {
      "cell_type": "code",
      "source": [
        "from ipyleaflet import Map, basemaps, basemap_to_tiles, DrawControl, TileLayer, GeoData, LayersControl\n",
        "import pandas as pd\n",
        "import geopandas as gpd\n",
        "\n",
        "zxyURL = 'https://storage.googleapis.com/cloud-geo-efm-public/s2-composite-tiles/{z}/{x}/{y}'\n",
        "center = (40.09351228982099, -74.07673459283767)\n",
        "s2Layer = TileLayer(url=zxyURL, opacity=1, name=\"S2 CS+ 2022\", max_zoom=16, max_native_zoom=14)\n",
        "\n",
        "m = Map(center=center, zoom=15)\n",
        "m.add(s2Layer)\n",
        "draw_control = DrawControl(\n",
        "    marker={\"shapeOptions\": {\"color\": \"#0000FF\"}},\n",
        "            circlemarker={},\n",
        "            polyline={},\n",
        "            polygon={},\n",
        "            rectangle={},\n",
        "            )\n",
        "\n",
        "m.add(draw_control)\n",
        "print(\"Digitize Class 1\")\n",
        "m"
      ],
      "metadata": {
        "id": "b84CeYeWbGav"
      },
      "execution_count": null,
      "outputs": []
    },
    {
      "cell_type": "code",
      "source": [
        "# Once you're done digitizing Class 1, run this cell to capture the points.\n",
        "classes = []\n",
        "for feature in draw_control.data:\n",
        "  classes.append({\"class\":\"class1\", \"lon\":feature['geometry']['coordinates'][0], \"lat\":feature['geometry']['coordinates'][1]})\n"
      ],
      "metadata": {
        "id": "4YiLNbfLcTa1"
      },
      "execution_count": null,
      "outputs": []
    },
    {
      "cell_type": "code",
      "source": [
        "m = Map(center=center, zoom=15)\n",
        "m.add(s2Layer)\n",
        "\n",
        "draw_control = DrawControl(\n",
        "    marker={\"shapeOptions\": {\"color\": \"#FF0000\"}},\n",
        "            circlemarker={},\n",
        "            polyline={},\n",
        "            polygon={},\n",
        "            rectangle={},\n",
        "            )\n",
        "\n",
        "m.add(draw_control)\n",
        "print(\"Digitize Class 2\")\n",
        "m"
      ],
      "metadata": {
        "id": "3WootwN9jJAb"
      },
      "execution_count": null,
      "outputs": []
    },
    {
      "cell_type": "code",
      "source": [
        "# Once you're done digitizing Class 2, run this cell to capture the points.\n",
        "for feature in draw_control.data:\n",
        "  classes.append({\"class\":\"class2\", \"lon\":feature['geometry']['coordinates'][0], \"lat\":feature['geometry']['coordinates'][1]})\n"
      ],
      "metadata": {
        "id": "AKO-NvixjSEY"
      },
      "execution_count": null,
      "outputs": []
    },
    {
      "cell_type": "code",
      "source": [
        "m = Map(center=center, zoom=15)\n",
        "m.add(s2Layer)\n",
        "\n",
        "draw_control = DrawControl(\n",
        "    marker={\"shapeOptions\": {\"color\": \"#00FF00\"}},\n",
        "            circlemarker={},\n",
        "            polyline={},\n",
        "            polygon={},\n",
        "            rectangle={},\n",
        "            )\n",
        "\n",
        "m.add(draw_control)\n",
        "print(\"Digitize Class 3\")\n",
        "m"
      ],
      "metadata": {
        "id": "m56ooOg3jdxj"
      },
      "execution_count": null,
      "outputs": []
    },
    {
      "cell_type": "code",
      "source": [
        "# Once you're done digitizing Class 3, run this cell to capture the points.\n",
        "for feature in draw_control.data:\n",
        "  classes.append({\"class\":\"class3\", \"lon\":feature['geometry']['coordinates'][0], \"lat\":feature['geometry']['coordinates'][1]})\n"
      ],
      "metadata": {
        "id": "rOJ2do_3jjx0"
      },
      "execution_count": null,
      "outputs": []
    },
    {
      "cell_type": "code",
      "source": [
        "\n",
        "# Create a pandas DataFrame from the data\n",
        "df = pd.DataFrame(classes)\n",
        "\n",
        "# Create the GeoDataFrame\n",
        "gdf = gpd.GeoDataFrame(\n",
        "    df,\n",
        "    geometry=gpd.points_from_xy(df['lon'], df['lat']),\n",
        "    crs=\"EPSG:4326\"\n",
        ")\n",
        "\n",
        "gdf"
      ],
      "metadata": {
        "id": "2RFJ8P-mi0vm"
      },
      "execution_count": null,
      "outputs": []
    },
    {
      "cell_type": "code",
      "source": [
        "#@title Show all 3 Classes\n",
        "\n",
        "# Split the GeoDataFrame into three based on class\n",
        "gdf_class1 = gdf[gdf['class'] == 'class1']\n",
        "gdf_class2 = gdf[gdf['class'] == 'class2']\n",
        "gdf_class3 = gdf[gdf['class'] == 'class3']\n",
        "\n",
        "# Create the map (adjust center and zoom as needed)\n",
        "m = Map(center=(gdf.geometry.y.mean(), gdf.geometry.x.mean()), zoom=13)\n",
        "m.add(s2Layer)\n",
        "\n",
        "layer1 = GeoData(geo_dataframe = gdf_class1,\n",
        "    style={'color': 'black', 'radius':8, 'fillColor': 'red', 'opacity':0.5, 'weight':1.9, 'dashArray':'2', 'fillOpacity':0.6},\n",
        "    hover_style={'fillColor': 'red' , 'fillOpacity': 0.2},\n",
        "    point_style={'radius': 5, 'color': 'red', 'fillOpacity': 0.8, 'fillColor': 'red', 'weight': 3},\n",
        "    name = 'Class 1')\n",
        "\n",
        "layer2 = GeoData(geo_dataframe = gdf_class2,\n",
        "    style={'color': 'black', 'radius':8, 'fillColor': 'blue', 'opacity':0.5, 'weight':1.9, 'dashArray':'2', 'fillOpacity':0.6},\n",
        "    hover_style={'fillColor': 'blue' , 'fillOpacity': 0.2},\n",
        "    point_style={'radius': 5, 'color': 'blue', 'fillOpacity': 0.8, 'fillColor': 'blue', 'weight': 3},\n",
        "    name = 'Class 2')\n",
        "\n",
        "layer3 = GeoData(geo_dataframe = gdf_class3,\n",
        "    style={'color': 'black', 'radius':8, 'fillColor': 'green', 'opacity':0.5, 'weight':1.9, 'dashArray':'2', 'fillOpacity':0.6},\n",
        "    hover_style={'fillColor': 'green' , 'fillOpacity': 0.2},\n",
        "    point_style={'radius': 5, 'color': 'green', 'fillOpacity': 0.8, 'fillColor': 'green', 'weight': 3},\n",
        "    name = 'Class 3')\n",
        "\n",
        "# Add layers to the map\n",
        "m.add_layer(layer1)\n",
        "m.add_layer(layer2)\n",
        "m.add_layer(layer3)\n",
        "\n",
        "# Add layer control to the map\n",
        "control = LayersControl(position='topright')\n",
        "m.add_control(control)\n",
        "\n",
        "# Display the map\n",
        "m"
      ],
      "metadata": {
        "cellView": "form",
        "id": "TETqEVJGW74T"
      },
      "execution_count": null,
      "outputs": []
    },
    {
      "cell_type": "code",
      "source": [
        "#@title Optionally, save as a GeoJSON file\n",
        "gdf.to_file(\"classes.geojson\", driver='GeoJSON')"
      ],
      "metadata": {
        "id": "nBj_TQ_YSSge"
      },
      "execution_count": null,
      "outputs": []
    },
    {
      "cell_type": "markdown",
      "source": [
        "# Load an EE-Exported Zarr file and Classify it with KNN using Scikit Learn"
      ],
      "metadata": {
        "id": "Fw11KjwSza_K"
      }
    },
    {
      "cell_type": "code",
      "source": [
        "#@title Install dependencies and authenticate to Cloud Storage\n",
        "!pip install zarr rioxarray\n",
        "\n",
        "import google.auth\n",
        "from google.colab import auth\n",
        "auth.authenticate_user()\n",
        "\n",
        "import gcsfs\n",
        "import xarray as xr\n",
        "import zarr\n",
        "\n",
        "# read the dataset from Zarr\n",
        "ds = xr.open_zarr(\"gs://imax-conus/data-10m/\")"
      ],
      "metadata": {
        "id": "0S_IdBhFx9Rb"
      },
      "execution_count": null,
      "outputs": []
    },
    {
      "cell_type": "code",
      "source": [
        "#@title Buffer the GeoDataFrame's BBOX 500 meters and crop the Zarr to that BBOX\n",
        "\n",
        "import geopandas as gpd\n",
        "from shapely.geometry import Polygon\n",
        "def buffer_bounding_box(gdf, buffer_distance_meters):\n",
        "    \"\"\"\n",
        "    Calculates and buffers the bounding box of a GeoDataFrame in EPSG:4326.\n",
        "\n",
        "    Args:\n",
        "        gdf: The GeoDataFrame in EPSG:4326.\n",
        "        buffer_distance_meters: The buffer distance in meters.\n",
        "\n",
        "    Returns:\n",
        "        The buffered bounding box as a GeoDataFrame.\n",
        "    \"\"\"\n",
        "\n",
        "    # Ensure the GeoDataFrame is in EPSG:4326\n",
        "    if gdf.crs != 'EPSG:4326':\n",
        "        gdf = gdf.to_crs('EPSG:4326')\n",
        "\n",
        "    # Get the bounding box\n",
        "    bbox = gdf.total_bounds\n",
        "\n",
        "    # Extract coordinates from bounds\n",
        "    xmin, ymin, xmax, ymax = bbox\n",
        "\n",
        "    # Create a Polygon from the coordinates\n",
        "    polygon = Polygon([(xmin, ymin), (xmin, ymax), (xmax, ymax), (xmax, ymin), (xmin, ymin)])\n",
        "\n",
        "    # Create a GeoSeries from the Polygon\n",
        "    polygon_gdf = gpd.GeoSeries([polygon], crs='EPSG:4326')\n",
        "\n",
        "    # Project to a metric CRS for buffering\n",
        "    bbox_poly_utm = polygon_gdf.to_crs(gdf.estimate_utm_crs())\n",
        "\n",
        "    # Buffer the polygon\n",
        "    buffered_bbox_utm = bbox_poly_utm.buffer(buffer_distance_meters)\n",
        "\n",
        "    # Project back to EPSG:4326\n",
        "    buffered_bbox = buffered_bbox_utm.to_crs('EPSG:4326')\n",
        "\n",
        "    return buffered_bbox\n",
        "\n",
        "# Assuming you have your GeoDataFrame 'gdf' defined\n",
        "\n",
        "buffered_bbox_gdf = buffer_bounding_box(gdf, 500)\n",
        "\n",
        "bbox = buffered_bbox_gdf.total_bounds\n",
        "\n",
        "cropped_ds = ds.sel(\n",
        "    lat=slice(bbox[1], bbox[3]),\n",
        "    lon=slice(bbox[0], bbox[2])\n",
        ")\n",
        "cropped_ds"
      ],
      "metadata": {
        "id": "BitU0maRyF_G"
      },
      "execution_count": null,
      "outputs": []
    },
    {
      "cell_type": "markdown",
      "source": [
        "Create a copy of the clipped Xarray Dastaset to a GeoDataFrame so we can do a spatial join with the training point GeoDataFrame"
      ],
      "metadata": {
        "id": "aGcfHBAuyJyX"
      }
    },
    {
      "cell_type": "code",
      "source": [
        "import geopandas as gpd\n",
        "from shapely.geometry import Point\n",
        "import pandas as pd\n",
        "import xarray as xr\n",
        "\n",
        "# Convert the xarray Dataset to a GeoDataFrame\n",
        "\n",
        "def ds_to_gdf(ds):\n",
        "    \"\"\"Converts an xarray Dataset to a GeoDataFrame.\"\"\"\n",
        "    # Create a DataFrame from the Dataset\n",
        "    df = ds.to_dataframe().reset_index()\n",
        "\n",
        "    # Create a geometry column\n",
        "    df['geometry'] = df.apply(lambda row: Point(row['lon'], row['lat']), axis=1)\n",
        "\n",
        "    # Create the GeoDataFrame\n",
        "    gdf = gpd.GeoDataFrame(df, geometry='geometry')\n",
        "\n",
        "    # Set the coordinate reference system (optional, but recommended)\n",
        "    gdf.crs = 'EPSG:4326'  # Assuming WGS 84\n",
        "\n",
        "    return gdf\n",
        "\n",
        "# Convert the cropped_ds to a GeoDataFrame\n",
        "cropped_gdf = ds_to_gdf(cropped_ds)\n",
        "\n",
        "# Perform the spatial join\n",
        "joined_gdf = gpd.sjoin_nearest(gdf, cropped_gdf, how=\"left\")\n",
        "\n",
        "joined_gdf\n"
      ],
      "metadata": {
        "id": "c56eKvPOyH46"
      },
      "execution_count": null,
      "outputs": []
    },
    {
      "cell_type": "markdown",
      "source": [
        "Train a KNN Classifier from the training points and their intersected Embedding Field Values and check the accuracy."
      ],
      "metadata": {
        "id": "0UYxTmiyySf3"
      }
    },
    {
      "cell_type": "code",
      "source": [
        "variable_names = [\n",
        "       'embedding_B0', 'embedding_B1', 'embedding_B10', 'embedding_B11',\n",
        "       'embedding_B12', 'embedding_B13', 'embedding_B14', 'embedding_B15',\n",
        "       'embedding_B16', 'embedding_B17', 'embedding_B18', 'embedding_B19',\n",
        "       'embedding_B2', 'embedding_B20', 'embedding_B21', 'embedding_B22',\n",
        "       'embedding_B23', 'embedding_B24', 'embedding_B25', 'embedding_B26',\n",
        "       'embedding_B27', 'embedding_B28', 'embedding_B29', 'embedding_B3',\n",
        "       'embedding_B30', 'embedding_B31', 'embedding_B32', 'embedding_B33',\n",
        "       'embedding_B34', 'embedding_B35', 'embedding_B36', 'embedding_B37',\n",
        "       'embedding_B38', 'embedding_B39', 'embedding_B4', 'embedding_B40',\n",
        "       'embedding_B41', 'embedding_B42', 'embedding_B43', 'embedding_B44',\n",
        "       'embedding_B45', 'embedding_B46', 'embedding_B47', 'embedding_B48',\n",
        "       'embedding_B49', 'embedding_B5', 'embedding_B50', 'embedding_B51',\n",
        "       'embedding_B52', 'embedding_B53', 'embedding_B54', 'embedding_B55',\n",
        "       'embedding_B56', 'embedding_B57', 'embedding_B58', 'embedding_B59',\n",
        "       'embedding_B6', 'embedding_B60', 'embedding_B61', 'embedding_B62',\n",
        "       'embedding_B63', 'embedding_B7', 'embedding_B8', 'embedding_B9'\n",
        "]"
      ],
      "metadata": {
        "id": "ETyrrgBcyUVl"
      },
      "execution_count": null,
      "outputs": []
    },
    {
      "cell_type": "code",
      "source": [
        "from sklearn.model_selection import train_test_split\n",
        "from sklearn.neighbors import KNeighborsClassifier\n",
        "from sklearn.metrics import accuracy_score\n",
        "\n",
        "# Select features and target variable\n",
        "X = joined_gdf[variable_names]\n",
        "y = joined_gdf['class']\n",
        "\n",
        "# Split the data into training and testing sets\n",
        "X_train, X_test, y_train, y_test = train_test_split(X, y, test_size=0.2, random_state=42)\n",
        "\n",
        "# Create a KNN classifier\n",
        "knn = KNeighborsClassifier(n_neighbors=5)\n",
        "\n",
        "# Train the model\n",
        "knn.fit(X_train, y_train)\n",
        "\n",
        "# Make predictions on the test set\n",
        "y_pred = knn.predict(X_test)\n",
        "\n",
        "# Evaluate the model\n",
        "accuracy = accuracy_score(y_test, y_pred)\n",
        "print(\"Accuracy:\", accuracy)"
      ],
      "metadata": {
        "id": "ZBYCTHVZyV4A"
      },
      "execution_count": null,
      "outputs": []
    },
    {
      "cell_type": "markdown",
      "source": [
        "Now use that model to predict the classes of all of the points and plot the classified map"
      ],
      "metadata": {
        "id": "leoyNeGhyYuy"
      }
    },
    {
      "cell_type": "code",
      "source": [
        "import matplotlib.pyplot as plt\n",
        "import matplotlib.colors as mcolors\n",
        "import matplotlib.patches as mpatches\n",
        "\n",
        "# Prepare the data for prediction on cropped_ds\n",
        "X_cropped = cropped_gdf[variable_names]\n",
        "\n",
        "# Predict classes for cropped_ds\n",
        "cropped_gdf['predicted_class'] = knn.predict(X_cropped)\n",
        "\n",
        "# Convert class predictions to numeric values\n",
        "cropped_gdf['predicted_class_numeric'] = cropped_gdf['predicted_class'].map({'class1': 1, 'class2': 2, 'class3': 3})\n",
        "\n",
        "# Plot the predictions\n",
        "\n",
        "# Define the color mapping\n",
        "color_mapping = {1: 'red', 2: 'blue', 3: 'green'}\n",
        "\n",
        "# Add legend for ax[1]\n",
        "legend_patches = [\n",
        "    mpatches.Patch(color=color_mapping[class_num], label=f'Class {class_num}')\n",
        "    for class_num in color_mapping\n",
        "]\n",
        "\n",
        "# Plot the predictions with discrete colors\n",
        "fig, ax = plt.subplots(figsize=(10, 8))\n",
        "cropped_gdf.plot(column='predicted_class_numeric', categorical=True,\n",
        "                 legend=True, ax=ax,\n",
        "                 color=[color_mapping[x] for x in cropped_gdf['predicted_class_numeric']])\n",
        "\n",
        "ax.legend(handles=legend_patches)\n",
        "\n",
        "plt.show()\n"
      ],
      "metadata": {
        "id": "eHDr80RAyi44"
      },
      "execution_count": null,
      "outputs": []
    },
    {
      "cell_type": "markdown",
      "source": [
        "Since that was done on a GeoDataFrame, it is a point feature representation of the map being classified.\n",
        "\n",
        "However, the same KNN Model can be used to make predictions on the Xarray DataSet."
      ],
      "metadata": {
        "id": "FLVw-rGsyvip"
      }
    },
    {
      "cell_type": "code",
      "source": [
        "# Convert the DataSet to an Array\n",
        "\n",
        "da = cropped_ds.to_array()\n",
        "da"
      ],
      "metadata": {
        "id": "MLp5gb7ay633"
      },
      "execution_count": null,
      "outputs": []
    },
    {
      "cell_type": "code",
      "source": [
        "# Stack and transpose the array based on the coordinates\n",
        "\n",
        "da = da.stack(point=['lat', 'lon']).transpose()\n",
        "da"
      ],
      "metadata": {
        "id": "3arljzw80v1j"
      },
      "execution_count": null,
      "outputs": []
    },
    {
      "cell_type": "code",
      "source": [
        "# Slice the array by the time dimension\n",
        "\n",
        "da = da[:, 0, :]\n",
        "da"
      ],
      "metadata": {
        "id": "MVYEqRd105rh"
      },
      "execution_count": null,
      "outputs": []
    },
    {
      "cell_type": "code",
      "source": [
        "# Predict the classes using the trained KNN model and then convert to a numeric representation\n",
        "predicted_classes = knn.predict(da)\n",
        "\n",
        "predicted_classes[predicted_classes=='class1'] = 1\n",
        "predicted_classes[predicted_classes=='class2'] = 2\n",
        "predicted_classes[predicted_classes=='class3'] = 3\n",
        "\n",
        "predicted_classes = predicted_classes.astype(float)"
      ],
      "metadata": {
        "id": "VSTp3gTH1DbX"
      },
      "execution_count": null,
      "outputs": []
    },
    {
      "cell_type": "code",
      "source": [
        "#@title Plot an RGB Composite from 3 bands of the Xarray Dataset next to the predicted classes\n",
        "import numpy as np\n",
        "\n",
        "# Functions to brighten and correct gamma for Xarray DataSet RGB composite\n",
        "def brighten(band):\n",
        "    alpha = 0.13\n",
        "    beta = 0\n",
        "    return np.clip(alpha * band + beta, 0, 255)\n",
        "\n",
        "def gammacorr(band):\n",
        "    gamma = 1\n",
        "    return np.power(band, 1 / gamma)\n",
        "\n",
        "# Select Bands for the RGB Composite (Defaults to 35,5,6)\n",
        "red_band = cropped_ds[\"embedding_B0\"]\n",
        "green_band = cropped_ds[\"embedding_B14\"]\n",
        "blue_band = cropped_ds[\"embedding_B62\"]\n",
        "\n",
        "# Extract the values from da.point and store in NumPy array 'coords'\n",
        "coords = np.array([*da.point.values])\n",
        "\n",
        "# Get the dimension of the orriginal Dataset\n",
        "reshape_lat = cropped_ds.sizes['lat']\n",
        "reshape_lon = cropped_ds.sizes['lon']\n",
        "\n",
        "# Define the color mapping for the predicted classes\n",
        "color_mapping = {1: 'red', 2: 'blue', 3: 'green'}\n",
        "\n",
        "# Create a discrete colormap the color mapping\n",
        "cmap = mcolors.ListedColormap(list(color_mapping.values()))\n",
        "\n",
        "# Stack the bands and normalize\n",
        "rgb = np.stack([red_band, green_band, blue_band], axis=-1)\n",
        "\n",
        "# Apply brightening and gamma correction to each band\n",
        "rgb[..., 0] = brighten(rgb[..., 0])  # Apply to Red Band\n",
        "rgb[..., 1] = brighten(rgb[..., 1])  # Apply to Green Band\n",
        "rgb[..., 2] = brighten(rgb[..., 2])  # Apply to Blue Band\n",
        "\n",
        "rgb[..., 0] = gammacorr(rgb[..., 0])\n",
        "rgb[..., 1] = gammacorr(rgb[..., 1])\n",
        "rgb[..., 2] = gammacorr(rgb[..., 2])\n",
        "\n",
        "rgb = rgb / rgb.max()  # Normalize after adjustments\n",
        "\n",
        "# Remove the extra dimension from the array\n",
        "rgb = rgb.squeeze()\n",
        "\n",
        "# Plot both plots\n",
        "fig, ax = plt.subplots(1, 2, figsize=(16, 9))  # Initial figure size with 16:9 ratio\n",
        "\n",
        "# Adjust the subplots to maintain the 16:9 aspect ratio\n",
        "# Calculate the desired height based on the width and aspect ratio\n",
        "desired_height = fig.get_figwidth() / 2 / (16/9)  # Divide width by 2 for each subplot\n",
        "fig.set_figheight(desired_height)\n",
        "\n",
        "# Plot the RGB composite\n",
        "# Get the extent for the image\n",
        "extent = [\n",
        "    cropped_ds['lon'].min(), cropped_ds['lon'].max(),\n",
        "    cropped_ds['lat'].max(), cropped_ds['lat'].min()  # Invert y-axis\n",
        "]\n",
        "\n",
        "# Plot the RGB composite with extent\n",
        "ax[0].imshow(rgb.transpose(1, 0, 2), extent=extent, origin='lower')\n",
        "\n",
        "# Set titles and axis labels\n",
        "ax[0].set_title('Zarr RGB Composite')\n",
        "ax[0].set_xlabel('Longitude')\n",
        "ax[0].set_ylabel('Latitude')\n",
        "\n",
        "ax[1].set_title('Predicted Classes')\n",
        "ax[1].set_xlabel('Longitude')\n",
        "ax[1].set_ylabel('Latitude')\n",
        "\n",
        "# Add legend for ax[1]\n",
        "legend_patches = [\n",
        "    mpatches.Patch(color=color_mapping[class_num], label=f'Class {class_num}')\n",
        "    for class_num in color_mapping\n",
        "]\n",
        "ax[1].legend(handles=legend_patches)\n",
        "\n",
        "ax[1].pcolor(coords[:, 1].reshape([reshape_lat, reshape_lon]), coords[:, 0].reshape([reshape_lat, reshape_lon]),  predicted_classes.reshape([reshape_lat, reshape_lon]), cmap=cmap)\n",
        "\n",
        "\n",
        "plt.show()"
      ],
      "metadata": {
        "id": "o1KhbaV5BmiJ"
      },
      "execution_count": null,
      "outputs": []
    },
    {
      "cell_type": "code",
      "source": [
        "# If you want to create a GeoTiff export, reshape the array that holds the predicted classes back to the orriginal DataSet shape\n",
        "\n",
        "# Create a new coordinate for the predicted classes\n",
        "da['predicted_class'] = ('point', predicted_classes)\n",
        "\n",
        "# Unstack the data to restore the original lat/lon dimensions\n",
        "da = da.unstack('point')\n",
        "da"
      ],
      "metadata": {
        "id": "Y-wncY7MzwiP"
      },
      "execution_count": null,
      "outputs": []
    },
    {
      "cell_type": "code",
      "source": [
        "# Create a GeoTIFF Output of the predictions\n",
        "\n",
        "import rioxarray as rxr\n",
        "\n",
        "\n",
        "# Rename the dimensions to 'x' and 'y' (rioxarray expectation)\n",
        "da_renamed = da['predicted_class'].rename({'lon': 'x', 'lat': 'y'})\n",
        "\n",
        "# Write the renamed DataArray to a GeoTIFF file\n",
        "da_renamed.rio.to_raster(\"output_predictions.tif\", driver=\"GTiff\")"
      ],
      "metadata": {
        "id": "8IrPXefz2BDU"
      },
      "execution_count": null,
      "outputs": []
    }
  ]
}