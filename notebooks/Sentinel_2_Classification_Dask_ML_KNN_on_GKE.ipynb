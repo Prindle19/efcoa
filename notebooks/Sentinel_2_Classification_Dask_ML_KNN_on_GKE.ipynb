{
  "cells": [
    {
      "cell_type": "markdown",
      "source": [
        "<a target=\"_blank\" href=\"https://colab.research.google.com/github/Prindle19/efcoa/blob/main/notebooks/Sentinel_2_Classification_Dask_ML_KNN_on_GKE.ipynb\">\n",
        "  <img src=\"https://colab.research.google.com/assets/colab-badge.svg\" alt=\"Open In Colab\"/>\n",
        "</a>"
      ],
      "metadata": {
        "id": "2dXAIrtH-jAS"
      }
    },
    {
      "cell_type": "markdown",
      "source": [
        "### Colab-only\n",
        "\n",
        "Install kubectl and Helm"
      ],
      "metadata": {
        "id": "AKYfj1iK_Ttm"
      }
    },
    {
      "cell_type": "code",
      "source": [
        "%cd /tools\n",
        "!curl -O https://dl.google.com/dl/cloudsdk/channels/rapid/downloads/google-cloud-cli-linux-x86_64.tar.gz > /dev/null 2>&1\n",
        "!tar -xf google-cloud-cli-linux-x86_64.tar.gz\n",
        "!gcloud components install -q gke-gcloud-auth-plugin > /dev/null 2>&1\n",
        "!gcloud components install -q kubectl > /dev/null 2>&1\n",
        "!curl https://baltocdn.com/helm/signing.asc | gpg --dearmor | sudo tee /usr/share/keyrings/helm.gpg> /dev/null\n",
        "!sudo apt-get install apt-transport-https --yes > /dev/null 2>&1\n",
        "!echo \"deb [arch=$(dpkg --print-architecture) signed-by=/usr/share/keyrings/helm.gpg] https://baltocdn.com/helm/stable/debian/ all main\" | sudo tee /etc/apt/sources.list.d/helm-stable-debian.list\n",
        "!sudo apt-get update > /dev/null 2>&1\n",
        "!sudo apt-get install helm > /dev/null 2>&1\n",
        "%cd /content"
      ],
      "metadata": {
        "id": "s2yqSYwduVqG"
      },
      "execution_count": null,
      "outputs": []
    },
    {
      "cell_type": "code",
      "source": [
        "# Colab-only\n",
        "from google.colab import auth\n",
        "auth.authenticate_user()"
      ],
      "metadata": {
        "id": "q8VGTiYx_mV-"
      },
      "execution_count": null,
      "outputs": []
    },
    {
      "cell_type": "code",
      "source": [
        "# Make sure we have a proper version of Dask\n",
        "!pip install -q --upgrade \"dask[complete]==2024.1.0\""
      ],
      "metadata": {
        "id": "GZWJchvbAbYi"
      },
      "execution_count": null,
      "outputs": []
    },
    {
      "cell_type": "code",
      "source": [
        "# Make sure version printed below is 2024.1.0, if not - restart this session before running next cells\n",
        "import dask\n",
        "dask.__version__"
      ],
      "metadata": {
        "id": "6VKrfoM_DA8j"
      },
      "execution_count": null,
      "outputs": []
    },
    {
      "cell_type": "code",
      "source": [
        "# Set Project, Zone, and Cluster variables\n",
        "PROJECT=\"my-project\"\n",
        "ZONE=\"us-east4-c\"\n",
        "CLUSTER='embeddings-cluster'"
      ],
      "metadata": {
        "id": "c5VoWzvYAfnN"
      },
      "execution_count": null,
      "outputs": []
    },
    {
      "cell_type": "code",
      "execution_count": null,
      "metadata": {
        "id": "g8B8WccF54iz"
      },
      "outputs": [],
      "source": [
        "# Set the local machine's gcloud project\n",
        "\n",
        "!gcloud config set project $PROJECT"
      ]
    },
    {
      "cell_type": "markdown",
      "metadata": {
        "id": "qxJsPryO54iz"
      },
      "source": [
        "#### 1. Create a new GKE cluster"
      ]
    },
    {
      "cell_type": "code",
      "execution_count": null,
      "metadata": {
        "id": "zJFTPfDH54iz"
      },
      "outputs": [],
      "source": [
        "%%time\n",
        "\n",
        "# Create cluster, this takes ~5 min\n",
        "!gcloud container clusters create $CLUSTER \\\n",
        "    --zone=$ZONE \\\n",
        "    --num-nodes=2 \\\n",
        "    --machine-type=c2-standard-8"
      ]
    },
    {
      "cell_type": "markdown",
      "source": [
        "Inspect your cluster in GKE: https://console.cloud.google.com/kubernetes\n",
        "\n",
        "\n"
      ],
      "metadata": {
        "id": "_ek35n2U7ROR"
      }
    },
    {
      "cell_type": "markdown",
      "metadata": {
        "id": "kjmqVUmG54i0"
      },
      "source": [
        "#### 2. Deploy Dask to our cluster using Helm"
      ]
    },
    {
      "cell_type": "code",
      "source": [
        "# Save cluster credentials in ~/.kube/config so that local kubectl and helm commands can use it\n",
        "\n",
        "!gcloud container clusters get-credentials $CLUSTER --project $PROJECT --zone $ZONE"
      ],
      "metadata": {
        "id": "rKUvbKcbBH85"
      },
      "execution_count": null,
      "outputs": []
    },
    {
      "cell_type": "code",
      "source": [
        "# Use kubectl to show the nodes that have been deployed\n",
        "\n",
        "!kubectl get nodes"
      ],
      "metadata": {
        "id": "DsdHePWeu3eN"
      },
      "execution_count": null,
      "outputs": []
    },
    {
      "cell_type": "code",
      "execution_count": null,
      "metadata": {
        "id": "BwM3XAaC54i0"
      },
      "outputs": [],
      "source": [
        "# Install Dask on the cluster\n",
        "\n",
        "!helm install --repo https://helm.dask.org \\\n",
        "    --set worker.replicas=16 \\\n",
        "    --set scheduler.serviceType=NodePort --set webUI.serviceType=NodePort --set jupyter.enabled=false \\\n",
        "    my-dask dask > /dev/null"
      ]
    },
    {
      "cell_type": "code",
      "execution_count": null,
      "metadata": {
        "id": "w_KCAJF-54i0"
      },
      "outputs": [],
      "source": [
        "# Run this command a few times to see the pod VMs are provisioned and in status \"Running\"\n",
        "\n",
        "!kubectl get pods -o wide"
      ]
    },
    {
      "cell_type": "code",
      "source": [
        "# Show which services are running\n",
        "\n",
        "!kubectl get services"
      ],
      "metadata": {
        "id": "0OmAHsT6vPij"
      },
      "execution_count": null,
      "outputs": []
    },
    {
      "cell_type": "markdown",
      "metadata": {
        "id": "IG5kBrPx54i0"
      },
      "source": [
        "#### 3. Forward ports for Dask Scheduler and Dask UI"
      ]
    },
    {
      "cell_type": "code",
      "execution_count": null,
      "metadata": {
        "id": "j90pmgW454i1"
      },
      "outputs": [],
      "source": [
        "# Run this cell, then open a terminal on the notebook and run the command printed below to forward Dask Scheduler port to localhost:8081\n",
        "\n",
        "!echo kubectl port-forward $(kubectl get pod --selector=\"app=dask,component=scheduler,release=my-dask\" --output jsonpath='{.items[0].metadata.name}') 8081:8786"
      ]
    },
    {
      "cell_type": "code",
      "execution_count": null,
      "metadata": {
        "id": "RcTZk0nq54i1"
      },
      "outputs": [],
      "source": [
        "# Run this cell, then open a local terminal where you can open a browser window to redirect Dask UI to the local machine port\n",
        "\n",
        "# Query node name and port to forward for Dask UI\n",
        "NODE_NAME=!kubectl get pod --selector=\"app=dask,component=scheduler,release=my-dask\" --output jsonpath='{.items[0].spec.nodeName}'\n",
        "NODE_NAME=NODE_NAME[0]\n",
        "NODE_PORT=!kubectl get services --output jsonpath='{.items[1].spec.ports[1].nodePort}'\n",
        "NODE_PORT=NODE_PORT[0]\n",
        "\n",
        "# Run commands printed below in the local shell to forward Dask UI ports to localhost:8080, create and enter an ssh password when asked\n",
        "\n",
        "!echo gcloud compute firewall-rules create allow-ssh-ingress-from-iap --direction=INGRESS --action=allow --rules=tcp:22 --source-ranges=35.235.240.0/20\n",
        "!echo gcloud compute ssh --tunnel-through-iap $NODE_NAME -- -NL 8080:localhost:$NODE_PORT"
      ]
    },
    {
      "cell_type": "markdown",
      "metadata": {
        "id": "u5Dmc8qi54i1"
      },
      "source": [
        "#### 4. Test if Dask works"
      ]
    },
    {
      "cell_type": "code",
      "execution_count": null,
      "metadata": {
        "id": "siTUy3wy54i1"
      },
      "outputs": [],
      "source": [
        "# Check if local browser can connect to cluster and run jobs\n",
        "\n",
        "from dask.distributed import Client\n",
        "client = Client(\"tcp://127.0.0.1:8081\")\n",
        "client"
      ]
    },
    {
      "cell_type": "code",
      "execution_count": null,
      "metadata": {
        "id": "eDM7JCml54i1"
      },
      "outputs": [],
      "source": [
        "# Create a dummy Dask Array\n",
        "\n",
        "import dask.array as da\n",
        "x = da.random.random((10000, 10000), chunks=(1000, 1000))\n",
        "x"
      ]
    },
    {
      "cell_type": "code",
      "execution_count": null,
      "metadata": {
        "id": "hB_InFYE54i1"
      },
      "outputs": [],
      "source": [
        "# That array can be used like numpy, but run on Dask cluster\n",
        "\n",
        "y = x + x.T\n",
        "z = y[::2, 5000:].mean(axis=1)\n",
        "\n",
        "z.compute() # observe parallel tasks in the Dask UI"
      ]
    },
    {
      "cell_type": "markdown",
      "source": [
        "Check https://docs.dask.org/en/latest/10-minutes-to-dask.html for an intro into Dask"
      ],
      "metadata": {
        "id": "WDbYJNbHX5NJ"
      }
    },
    {
      "cell_type": "markdown",
      "source": [
        "### 5. KMeans example\n"
      ],
      "metadata": {
        "id": "fTE8V3jXDc9r"
      }
    },
    {
      "cell_type": "code",
      "source": [
        "# Install Zarr and other dependencies\n",
        "\n",
        "!pip install -q \"dask-ml[complete]\" zarr xarray gcsfs pandas"
      ],
      "metadata": {
        "id": "3R8AYQt-C-0h"
      },
      "execution_count": null,
      "outputs": []
    },
    {
      "cell_type": "code",
      "source": [
        "# Make sure to install packages via EXTRA_PIP_PACKAGES or as below, it takes a minute or so to install it on all nodes\n",
        "from dask.distributed import PipInstall\n",
        "plugin = PipInstall(packages=[\"dask-ml[complete]\", \"gcsfs\", \"zarr\", \"xarray\"], pip_options=[\"--upgrade\"])\n",
        "client.register_worker_plugin(plugin)"
      ],
      "metadata": {
        "id": "qCMPMl7EDKyy"
      },
      "execution_count": null,
      "outputs": []
    },
    {
      "cell_type": "code",
      "source": [
        "# Import Dask ML dependencies\n",
        "\n",
        "import dask_ml.datasets\n",
        "import dask_ml.cluster\n",
        "import matplotlib.pyplot as plt"
      ],
      "metadata": {
        "id": "OXlvjHQwDXxw"
      },
      "execution_count": null,
      "outputs": []
    },
    {
      "cell_type": "code",
      "source": [
        "# Create random data in the array which will be clustered\n",
        "\n",
        "X, y = dask_ml.datasets.make_blobs(n_samples=100_000_000,\n",
        "                                   chunks=10_000_000,\n",
        "                                   random_state=0,\n",
        "                                   centers=5)\n",
        "X = X.persist()\n",
        "X"
      ],
      "metadata": {
        "id": "Dd-ulfzIDvmH"
      },
      "execution_count": null,
      "outputs": []
    },
    {
      "cell_type": "code",
      "source": [
        "# Run KNN on the Dask Cluster\n",
        "\n",
        "km = dask_ml.cluster.KMeans(n_clusters=5, init_max_iter=2, oversampling_factor=10)\n",
        "km.fit(X)"
      ],
      "metadata": {
        "id": "01m7lwtpD_op"
      },
      "execution_count": null,
      "outputs": []
    },
    {
      "cell_type": "code",
      "source": [
        "# Plot a sample (every 10,000 points) to demonstrate the clusters\n",
        "\n",
        "fig, ax = plt.subplots()\n",
        "ax.scatter(X[::10000, 0], X[::10000, 1], marker='.', c=km.labels_[::10000], cmap='viridis', alpha=0.25);"
      ],
      "metadata": {
        "id": "4z3QesBuEjo9"
      },
      "execution_count": null,
      "outputs": []
    },
    {
      "cell_type": "markdown",
      "source": [
        "### 6. Read the Sentinel 2 10m Zarr and Classify on the GKE Dask Cluster\n"
      ],
      "metadata": {
        "id": "xoJh7-zf8dKc"
      }
    },
    {
      "cell_type": "code",
      "source": [
        "# Import dependencies and load Sentinel 2 10m Composite Zarr\n",
        "\n",
        "import gcsfs\n",
        "import xarray as xr\n",
        "import zarr\n",
        "from dask.distributed import Client, progress\n",
        "import dask_ml.cluster\n",
        "import matplotlib.pyplot as plt\n",
        "\n",
        "fs = gcsfs.GCSFileSystem(token='anon', access='read_only')\n",
        "gcsmap = gcsfs.mapping.GCSMap(\"gs://cloud-geo-efm-public/s2-composite-10m/\", gcs=fs, check=False, create=False)\n",
        "\n",
        "# Read the dataset\n",
        "ds = xr.open_zarr(gcsmap)\n",
        "ds"
      ],
      "metadata": {
        "id": "DPHdL1T6193_"
      },
      "execution_count": null,
      "outputs": []
    },
    {
      "cell_type": "code",
      "source": [
        "# Crop the Dataset to the Manasquan, NJ Inlet area\n",
        "\n",
        "bbox = [-74.09972442,  40.0838885 , -74.02481765,  40.12451048] # 500m buffer\n",
        "\n",
        "ds_small = ds.sel(\n",
        "    lat=slice(bbox[1], bbox[3]),\n",
        "    lon=slice(bbox[0], bbox[2]),\n",
        "    time='2022-01-01'\n",
        ")\n",
        "\n",
        "ds_small"
      ],
      "metadata": {
        "id": "KkhR0uvF2Ii_"
      },
      "execution_count": null,
      "outputs": []
    },
    {
      "cell_type": "code",
      "source": [
        "# Convert the DataSet to an Array - using .persist() will ensure\n",
        "# the results will be kept in distributed memory, rather than returned to the local process as with compute.\n",
        "\n",
        "da = ds_small.persist().to_array()\n",
        "\n",
        "# Stack lat and lon dimensions and transpose as KMeans expects input with a shape: (example, feature)\n",
        "da = da.stack(point=['lat', 'lon']).transpose()\n",
        "da"
      ],
      "metadata": {
        "id": "rOXaXHwW2Z12"
      },
      "execution_count": null,
      "outputs": []
    },
    {
      "cell_type": "code",
      "source": [
        "# Create 10 classes using Dask ML KNN on the GKE cluster using unsupervised classification\n",
        "\n",
        "%%time\n",
        "km = dask_ml.cluster.KMeans(n_clusters=10, init_max_iter=2, oversampling_factor=10)\n",
        "km.fit(da)"
      ],
      "metadata": {
        "id": "S5_mgrCj2ok7"
      },
      "execution_count": null,
      "outputs": []
    },
    {
      "cell_type": "code",
      "source": [
        "da['predicted_class'] = ('point', km.labels_)\n",
        "\n",
        "# Unstack the data to restore the original lat/lon dimensions\n",
        "da = da.unstack('point')\n",
        "da"
      ],
      "metadata": {
        "id": "VCBsQsuE3UXn"
      },
      "execution_count": null,
      "outputs": []
    },
    {
      "cell_type": "code",
      "source": [
        "# For reference, visualize Band 8 of the Sentinel 2 Composite\n",
        "\n",
        "fig, ax = plt.subplots(figsize=(10, 5))\n",
        "ds_small.B8.plot(x='lon',y='lat')"
      ],
      "metadata": {
        "id": "uPOI6nfq3XNI"
      },
      "execution_count": null,
      "outputs": []
    },
    {
      "cell_type": "code",
      "source": [
        "# Plot the predicted classes\n",
        "\n",
        "fig, ax = plt.subplots(figsize=(10, 5))\n",
        "da.predicted_class.plot(ax=ax, add_colorbar=True, x='lon', y='lat', cmap='tab10_r')\n",
        "ax.set_title(\"K-Means clustering with Dask running locally stored in zarr\")\n",
        "plt.show()"
      ],
      "metadata": {
        "id": "ivuGWd6I3bIC"
      },
      "execution_count": null,
      "outputs": []
    },
    {
      "cell_type": "markdown",
      "source": [
        "#### 7. Clean up resources"
      ],
      "metadata": {
        "id": "zTqHclkj3N-y"
      }
    },
    {
      "cell_type": "code",
      "source": [
        "# Uninstall Dask\n",
        "!helm uninstall my-dask"
      ],
      "metadata": {
        "id": "YYC2azac3OYu"
      },
      "execution_count": null,
      "outputs": []
    },
    {
      "cell_type": "code",
      "source": [
        "# Delete the GKE Cluster\n",
        "%%time\n",
        "\n",
        "# ~3-4 min\n",
        "!gcloud container clusters delete --quiet --zone=$ZONE $CLUSTER"
      ],
      "metadata": {
        "id": "jDr5yMj43VMY"
      },
      "execution_count": null,
      "outputs": []
    }
  ],
  "metadata": {
    "kernelspec": {
      "display_name": "Python 3",
      "language": "python",
      "name": "python3"
    },
    "language_info": {
      "codemirror_mode": {
        "name": "ipython",
        "version": 3
      },
      "file_extension": ".py",
      "mimetype": "text/x-python",
      "name": "python",
      "nbconvert_exporter": "python",
      "pygments_lexer": "ipython3",
      "version": "3.10.12"
    },
    "colab": {
      "provenance": []
    }
  },
  "nbformat": 4,
  "nbformat_minor": 0
}