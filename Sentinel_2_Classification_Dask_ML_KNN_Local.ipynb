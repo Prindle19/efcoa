{
  "nbformat": 4,
  "nbformat_minor": 0,
  "metadata": {
    "colab": {
      "provenance": []
    },
    "kernelspec": {
      "name": "python3",
      "display_name": "Python 3"
    },
    "language_info": {
      "name": "python"
    }
  },
  "cells": [
    {
      "cell_type": "code",
      "source": [
        "# install dependencies: Zarr, Dask ML\n",
        "!pip install -q zarr \"dask-ml[complete]\""
      ],
      "metadata": {
        "id": "476QrhDUvO3x"
      },
      "execution_count": null,
      "outputs": []
    },
    {
      "cell_type": "code",
      "source": [
        "# Import dependencies and load Sentinel 2 10m Composite Zarr\n",
        "import gcsfs\n",
        "import xarray as xr\n",
        "import zarr\n",
        "from dask.distributed import Client, progress\n",
        "import dask_ml.cluster\n",
        "import matplotlib.pyplot as plt\n",
        "\n",
        "fs = gcsfs.GCSFileSystem(token='anon', access='read_only')\n",
        "gcsmap = gcsfs.mapping.GCSMap(\"gs://cloud-geo-efm-public/s2-composite-10m/\", gcs=fs, check=False, create=False)\n",
        "\n",
        "# read the dataset\n",
        "ds = xr.open_zarr(gcsmap)\n",
        "ds"
      ],
      "metadata": {
        "collapsed": true,
        "id": "8s1lF7RnySPA"
      },
      "execution_count": null,
      "outputs": []
    },
    {
      "cell_type": "code",
      "source": [
        "# Crop the Dataset to the Manasquan, NJ Inlet area\n",
        "\n",
        "bbox = [-74.09972442,  40.0838885 , -74.02481765,  40.12451048] # 500m buffer\n",
        "\n",
        "ds_small = ds.sel(\n",
        "    lat=slice(bbox[1], bbox[3]),\n",
        "    lon=slice(bbox[0], bbox[2]),\n",
        "    time='2022-01-01'\n",
        ")\n",
        "\n",
        "ds_small"
      ],
      "metadata": {
        "id": "MBR84jQmO7R0"
      },
      "execution_count": null,
      "outputs": []
    },
    {
      "cell_type": "code",
      "source": [
        "# Convert the DataSet to an Array\n",
        "\n",
        "da = ds_small.to_array()\n",
        "\n",
        "# stack lat and lon dimensions and transpose as KMeans expects input with a shape: (example, feature)\n",
        "da = da.stack(point=['lat', 'lon']).transpose()\n",
        "da"
      ],
      "metadata": {
        "id": "KOVttlM0DZj4"
      },
      "execution_count": null,
      "outputs": []
    },
    {
      "cell_type": "code",
      "source": [
        "# Start local Dask cluster with 1 worker and 4 threads per worker\n",
        "client = Client(processes=False, threads_per_worker=4, n_workers=1, memory_limit='12GB')\n",
        "client"
      ],
      "metadata": {
        "id": "1kDI57_h41vP"
      },
      "execution_count": null,
      "outputs": []
    },
    {
      "cell_type": "code",
      "source": [
        "# Create 10 classes using Dask ML KNN on the local cluster using unsupervised classification\n",
        "\n",
        "%%time\n",
        "km = dask_ml.cluster.KMeans(n_clusters=10, init_max_iter=2, oversampling_factor=10)\n",
        "km.fit(da)"
      ],
      "metadata": {
        "id": "s3UjAGx14y3M"
      },
      "execution_count": null,
      "outputs": []
    },
    {
      "cell_type": "code",
      "source": [
        "# Assign the predictions for each cell back to the DataSet\n",
        "\n",
        "da['predicted_class'] = ('point', km.labels_)\n",
        "\n",
        "# Unstack the data to restore the original lat/lon dimensions\n",
        "da = da.unstack('point')\n",
        "da"
      ],
      "metadata": {
        "id": "ZFGIoE2Kl8rT"
      },
      "execution_count": null,
      "outputs": []
    },
    {
      "cell_type": "code",
      "source": [
        "# For reference, visualize Band 8 of the Sentinel 2 Composite\n",
        "\n",
        "fig, ax = plt.subplots(figsize=(10, 5))\n",
        "ds_small.B8.plot(x='lon',y='lat')"
      ],
      "metadata": {
        "id": "0BSMvnOqy3sr"
      },
      "execution_count": null,
      "outputs": []
    },
    {
      "cell_type": "code",
      "source": [
        "# Plot the predicted classes\n",
        "\n",
        "fig, ax = plt.subplots(figsize=(10, 5))\n",
        "da.predicted_class.plot(ax=ax, add_colorbar=True, x='lon', y='lat', cmap='tab10_r')\n",
        "ax.set_title(\"Unsupervised K-Means clustering on Zarr with Dask running locally\")\n",
        "plt.show()"
      ],
      "metadata": {
        "id": "Pg5zn6JDwOjV"
      },
      "execution_count": null,
      "outputs": []
    },
    {
      "cell_type": "code",
      "source": [
        "# Shutdown the Dask Client and Cluster\n",
        "client.shutdown()"
      ],
      "metadata": {
        "id": "AaORjHBcUDcZ"
      },
      "execution_count": null,
      "outputs": []
    }
  ]
}