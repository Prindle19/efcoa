{
 "cells": [
  {
   "cell_type": "code",
   "execution_count": 12,
   "metadata": {},
   "outputs": [],
   "source": [
    "PROJECT=\"dgena-demo2\"\n",
    "ZONE=\"us-east4-c\"\n",
    "CLUSTER='embeddings-cluster'"
   ]
  },
  {
   "cell_type": "code",
   "execution_count": 13,
   "metadata": {},
   "outputs": [
    {
     "name": "stdout",
     "output_type": "stream",
     "text": [
      "Updated property [core/project].\n"
     ]
    }
   ],
   "source": [
    "!gcloud config set project $PROJECT"
   ]
  },
  {
   "cell_type": "markdown",
   "metadata": {},
   "source": [
    "### 1. Create a new GKE cluster"
   ]
  },
  {
   "cell_type": "code",
   "execution_count": 34,
   "metadata": {},
   "outputs": [
    {
     "name": "stdout",
     "output_type": "stream",
     "text": [
      "Default change: VPC-native is the default mode during cluster creation for versions greater than 1.21.0-gke.1500. To create advanced routes based clusters, please pass the `--no-enable-ip-alias` flag\n",
      "Note: The Kubelet readonly port (10255) is now deprecated. Please update your workloads to use the recommended alternatives. See https://cloud.google.com/kubernetes-engine/docs/how-to/disable-kubelet-readonly-port for ways to check usage and for migration instructions.\n",
      "Note: Your Pod address range (`--cluster-ipv4-cidr`) can accommodate at most 1008 node(s).\n",
      "Creating cluster embeddings-cluster in us-east4-c... Cluster is being configure\n",
      "d...working.                                                                   \n",
      "Creating cluster embeddings-cluster in us-east4-c... Cluster is being health-ch\n",
      "ecked (master is healthy)...done.                                              \n",
      "Created [https://container.googleapis.com/v1/projects/dgena-demo2/zones/us-east4-c/clusters/embeddings-cluster].\n",
      "To inspect the contents of your cluster, go to: https://console.cloud.google.com/kubernetes/workload_/gcloud/us-east4-c/embeddings-cluster?project=dgena-demo2\n",
      "kubeconfig entry generated for embeddings-cluster.\n",
      "NAME: embeddings-cluster\n",
      "LOCATION: us-east4-c\n",
      "MASTER_VERSION: 1.29.7-gke.1104000\n",
      "MASTER_IP: 35.230.185.169\n",
      "MACHINE_TYPE: c2-standard-8\n",
      "NODE_VERSION: 1.29.7-gke.1104000\n",
      "NUM_NODES: 2\n",
      "STATUS: RUNNING\n"
     ]
    }
   ],
   "source": [
    "# create cluster, ~5 min\n",
    "!gcloud container clusters create $CLUSTER \\\n",
    "    --zone=$ZONE \\\n",
    "    --num-nodes=2 \\\n",
    "    --machine-type=c2-standard-8"
   ]
  },
  {
   "cell_type": "code",
   "execution_count": 35,
   "metadata": {},
   "outputs": [
    {
     "name": "stdout",
     "output_type": "stream",
     "text": [
      "Fetching cluster endpoint and auth data.\n",
      "kubeconfig entry generated for embeddings-cluster.\n"
     ]
    }
   ],
   "source": [
    "# save cluster credentials in ~/.kube/config so that local kubectl command can use them\n",
    "!gcloud container clusters get-credentials $CLUSTER --project $PROJECT --zone $ZONE"
   ]
  },
  {
   "cell_type": "markdown",
   "metadata": {},
   "source": [
    "### 2. Deploy Dask to our cluster using Helm"
   ]
  },
  {
   "cell_type": "code",
   "execution_count": 47,
   "metadata": {},
   "outputs": [],
   "source": [
    "# install Dask om our cluster\n",
    "!helm install --repo https://helm.dask.org \\\n",
    "    --set worker.replicas=16 \\\n",
    "    --set scheduler.serviceType=NodePort --set webUI.serviceType=NodePort --set jupyter.enabled=false \\\n",
    "    my-dask dask > /dev/null"
   ]
  },
  {
   "cell_type": "code",
   "execution_count": 105,
   "metadata": {},
   "outputs": [
    {
     "name": "stdout",
     "output_type": "stream",
     "text": [
      "NAME                                 READY   STATUS    RESTARTS   AGE\n",
      "my-dask-scheduler-55444c7c89-jmlc2   1/1     Running   0          30m\n",
      "my-dask-worker-657c447464-5wgr9      1/1     Running   0          30m\n",
      "my-dask-worker-657c447464-7fmfh      1/1     Running   0          30m\n",
      "my-dask-worker-657c447464-9cxn4      1/1     Running   0          30m\n",
      "my-dask-worker-657c447464-9jhzp      1/1     Running   0          30m\n",
      "my-dask-worker-657c447464-9tgc2      1/1     Running   0          30m\n",
      "my-dask-worker-657c447464-dtssj      1/1     Running   0          30m\n",
      "my-dask-worker-657c447464-hf8nd      1/1     Running   0          30m\n",
      "my-dask-worker-657c447464-jxf4v      1/1     Running   0          30m\n",
      "my-dask-worker-657c447464-kqm5b      1/1     Running   0          30m\n",
      "my-dask-worker-657c447464-l5hf4      1/1     Running   0          30m\n",
      "my-dask-worker-657c447464-njct8      1/1     Running   0          30m\n",
      "my-dask-worker-657c447464-ptktt      1/1     Running   0          30m\n",
      "my-dask-worker-657c447464-pvv8d      1/1     Running   0          30m\n",
      "my-dask-worker-657c447464-rbdv4      1/1     Running   0          30m\n",
      "my-dask-worker-657c447464-xpsh4      1/1     Running   0          30m\n",
      "my-dask-worker-657c447464-zcgk5      1/1     Running   0          30m\n"
     ]
    }
   ],
   "source": [
    "# run this command a few times to see then pod VMs are ready\n",
    "!kubectl get pods"
   ]
  },
  {
   "cell_type": "markdown",
   "metadata": {},
   "source": [
    "### Forward ports for Dask Scheduler and Dask UI to run Dask compute job from local machine and to observe Dask status"
   ]
  },
  {
   "cell_type": "code",
   "execution_count": 106,
   "metadata": {},
   "outputs": [
    {
     "name": "stdout",
     "output_type": "stream",
     "text": [
      "kubectl port-forward my-dask-scheduler-55444c7c89-jmlc2 8080:8786\n"
     ]
    }
   ],
   "source": [
    "# open a terminal on the machine where your notebook runs and run the command printed below to forward Dask Scheduler port to localhost:8080\n",
    "\n",
    "!echo kubectl port-forward $(kubectl get pod --selector=\"app=dask,component=scheduler,release=my-dask\" --output jsonpath='{.items[0].metadata.name}') 8080:8786"
   ]
  },
  {
   "cell_type": "code",
   "execution_count": 107,
   "metadata": {},
   "outputs": [
    {
     "name": "stdout",
     "output_type": "stream",
     "text": [
      "gcloud compute firewall-rules create allow-ssh-ingress-from-iap --direction=INGRESS --action=allow --rules=tcp:22 --source-ranges=35.235.240.0/20\n",
      "gcloud compute ssh --tunnel-through-iap gke-embeddings-cluster-default-pool-25d9c0f2-nfcd -- -NL 8080:localhost:31467\n"
     ]
    }
   ],
   "source": [
    "# query node name and port to forward for Dask UI\n",
    "NODE_NAME=!kubectl get pod --selector=\"app=dask,component=scheduler,release=my-dask\" --output jsonpath='{.items[0].spec.nodeName}'\n",
    "NODE_NAME=NODE_NAME[0]\n",
    "NODE_PORT=!kubectl get services --output jsonpath='{.items[1].spec.ports[1].nodePort}'\n",
    "NODE_PORT=NODE_PORT[0]\n",
    "\n",
    "# run commands printed below in your local shell to forward Dask UI ports to localhost:8080, enter ssh password when asked\n",
    "!echo gcloud compute firewall-rules create allow-ssh-ingress-from-iap --direction=INGRESS --action=allow --rules=tcp:22 --source-ranges=35.235.240.0/20\n",
    "!echo gcloud compute ssh --tunnel-through-iap $NODE_NAME -- -NL 8080:localhost:$NODE_PORT"
   ]
  },
  {
   "cell_type": "markdown",
   "metadata": {},
   "source": [
    "### Test it if works by running some python calculations"
   ]
  },
  {
   "cell_type": "code",
   "execution_count": 108,
   "metadata": {},
   "outputs": [
    {
     "name": "stdout",
     "output_type": "stream",
     "text": [
      "<Client: 'tcp://10.108.1.16:8786' processes=16 threads=128, memory=501.65 GiB>\n"
     ]
    },
    {
     "name": "stderr",
     "output_type": "stream",
     "text": [
      "/home/dgena/.local/lib/python3.10/site-packages/distributed/client.py:1391: VersionMismatchWarning: Mismatched versions found\n",
      "\n",
      "+---------+--------+-----------+---------+\n",
      "| Package | Client | Scheduler | Workers |\n",
      "+---------+--------+-----------+---------+\n",
      "| msgpack | 1.0.8  | 1.0.7     | 1.0.7   |\n",
      "| numpy   | 1.26.4 | 1.26.3    | 1.26.3  |\n",
      "| pandas  | 2.2.2  | 2.1.4     | 2.1.4   |\n",
      "| toolz   | 0.12.1 | 0.12.0    | 0.12.0  |\n",
      "| tornado | 6.4.1  | 6.3.3     | 6.3.3   |\n",
      "+---------+--------+-----------+---------+\n",
      "  warnings.warn(version_module.VersionMismatchWarning(msg[0][\"warning\"]))\n"
     ]
    }
   ],
   "source": [
    "# check if we can connect to cluster and run jobs\n",
    "from dask.distributed import Client\n",
    "client = Client(\"tcp://127.0.0.1:8080\")\n",
    "\n",
    "print(client)"
   ]
  },
  {
   "cell_type": "code",
   "execution_count": 109,
   "metadata": {},
   "outputs": [
    {
     "data": {
      "text/html": [
       "<table>\n",
       "    <tr>\n",
       "        <td>\n",
       "            <table style=\"border-collapse: collapse;\">\n",
       "                <thead>\n",
       "                    <tr>\n",
       "                        <td> </td>\n",
       "                        <th> Array </th>\n",
       "                        <th> Chunk </th>\n",
       "                    </tr>\n",
       "                </thead>\n",
       "                <tbody>\n",
       "                    \n",
       "                    <tr>\n",
       "                        <th> Bytes </th>\n",
       "                        <td> 762.94 MiB </td>\n",
       "                        <td> 7.63 MiB </td>\n",
       "                    </tr>\n",
       "                    \n",
       "                    <tr>\n",
       "                        <th> Shape </th>\n",
       "                        <td> (10000, 10000) </td>\n",
       "                        <td> (1000, 1000) </td>\n",
       "                    </tr>\n",
       "                    <tr>\n",
       "                        <th> Dask graph </th>\n",
       "                        <td colspan=\"2\"> 100 chunks in 1 graph layer </td>\n",
       "                    </tr>\n",
       "                    <tr>\n",
       "                        <th> Data type </th>\n",
       "                        <td colspan=\"2\"> float64 numpy.ndarray </td>\n",
       "                    </tr>\n",
       "                </tbody>\n",
       "            </table>\n",
       "        </td>\n",
       "        <td>\n",
       "        <svg width=\"170\" height=\"170\" style=\"stroke:rgb(0,0,0);stroke-width:1\" >\n",
       "\n",
       "  <!-- Horizontal lines -->\n",
       "  <line x1=\"0\" y1=\"0\" x2=\"120\" y2=\"0\" style=\"stroke-width:2\" />\n",
       "  <line x1=\"0\" y1=\"12\" x2=\"120\" y2=\"12\" />\n",
       "  <line x1=\"0\" y1=\"24\" x2=\"120\" y2=\"24\" />\n",
       "  <line x1=\"0\" y1=\"36\" x2=\"120\" y2=\"36\" />\n",
       "  <line x1=\"0\" y1=\"48\" x2=\"120\" y2=\"48\" />\n",
       "  <line x1=\"0\" y1=\"60\" x2=\"120\" y2=\"60\" />\n",
       "  <line x1=\"0\" y1=\"72\" x2=\"120\" y2=\"72\" />\n",
       "  <line x1=\"0\" y1=\"84\" x2=\"120\" y2=\"84\" />\n",
       "  <line x1=\"0\" y1=\"96\" x2=\"120\" y2=\"96\" />\n",
       "  <line x1=\"0\" y1=\"108\" x2=\"120\" y2=\"108\" />\n",
       "  <line x1=\"0\" y1=\"120\" x2=\"120\" y2=\"120\" style=\"stroke-width:2\" />\n",
       "\n",
       "  <!-- Vertical lines -->\n",
       "  <line x1=\"0\" y1=\"0\" x2=\"0\" y2=\"120\" style=\"stroke-width:2\" />\n",
       "  <line x1=\"12\" y1=\"0\" x2=\"12\" y2=\"120\" />\n",
       "  <line x1=\"24\" y1=\"0\" x2=\"24\" y2=\"120\" />\n",
       "  <line x1=\"36\" y1=\"0\" x2=\"36\" y2=\"120\" />\n",
       "  <line x1=\"48\" y1=\"0\" x2=\"48\" y2=\"120\" />\n",
       "  <line x1=\"60\" y1=\"0\" x2=\"60\" y2=\"120\" />\n",
       "  <line x1=\"72\" y1=\"0\" x2=\"72\" y2=\"120\" />\n",
       "  <line x1=\"84\" y1=\"0\" x2=\"84\" y2=\"120\" />\n",
       "  <line x1=\"96\" y1=\"0\" x2=\"96\" y2=\"120\" />\n",
       "  <line x1=\"108\" y1=\"0\" x2=\"108\" y2=\"120\" />\n",
       "  <line x1=\"120\" y1=\"0\" x2=\"120\" y2=\"120\" style=\"stroke-width:2\" />\n",
       "\n",
       "  <!-- Colored Rectangle -->\n",
       "  <polygon points=\"0.0,0.0 120.0,0.0 120.0,120.0 0.0,120.0\" style=\"fill:#ECB172A0;stroke-width:0\"/>\n",
       "\n",
       "  <!-- Text -->\n",
       "  <text x=\"60.000000\" y=\"140.000000\" font-size=\"1.0rem\" font-weight=\"100\" text-anchor=\"middle\" >10000</text>\n",
       "  <text x=\"140.000000\" y=\"60.000000\" font-size=\"1.0rem\" font-weight=\"100\" text-anchor=\"middle\" transform=\"rotate(-90,140.000000,60.000000)\">10000</text>\n",
       "</svg>\n",
       "        </td>\n",
       "    </tr>\n",
       "</table>"
      ],
      "text/plain": [
       "dask.array<random_sample, shape=(10000, 10000), dtype=float64, chunksize=(1000, 1000), chunktype=numpy.ndarray>"
      ]
     },
     "execution_count": 109,
     "metadata": {},
     "output_type": "execute_result"
    }
   ],
   "source": [
    "import dask.array as da\n",
    "x = da.random.random((10000, 10000), chunks=(1000, 1000))\n",
    "x"
   ]
  },
  {
   "cell_type": "code",
   "execution_count": 110,
   "metadata": {},
   "outputs": [
    {
     "data": {
      "text/plain": [
       "array([1.00041517, 1.00763299, 1.00277814, ..., 1.00535934, 1.00059734,\n",
       "       0.99626806])"
      ]
     },
     "execution_count": 110,
     "metadata": {},
     "output_type": "execute_result"
    }
   ],
   "source": [
    "y = x + x.T\n",
    "z = y[::2, 5000:].mean(axis=1)\n",
    "\n",
    "z.compute() # observe parallel tasks in the Dask UI"
   ]
  },
  {
   "cell_type": "markdown",
   "metadata": {},
   "source": [
    "### Clean up resources"
   ]
  },
  {
   "cell_type": "code",
   "execution_count": 111,
   "metadata": {},
   "outputs": [
    {
     "name": "stdout",
     "output_type": "stream",
     "text": [
      "release \"my-dask\" uninstalled\n"
     ]
    }
   ],
   "source": [
    "!helm uninstall my-dask"
   ]
  },
  {
   "cell_type": "code",
   "execution_count": 112,
   "metadata": {},
   "outputs": [
    {
     "name": "stdout",
     "output_type": "stream",
     "text": [
      "Deleting cluster embeddings-cluster...done.                                    \n",
      "Deleted [https://container.googleapis.com/v1/projects/dgena-demo2/zones/us-east4-c/clusters/embeddings-cluster].\n"
     ]
    },
    {
     "name": "stderr",
     "output_type": "stream",
     "text": [
      "2024-08-29 20:47:16,841 - distributed.client - ERROR - Failed to reconnect to scheduler after 30.00 seconds, closing client\n"
     ]
    }
   ],
   "source": [
    "# ~3-4 min\n",
    "!gcloud container clusters delete --quiet --zone=$ZONE $CLUSTER"
   ]
  },
  {
   "cell_type": "code",
   "execution_count": null,
   "metadata": {},
   "outputs": [],
   "source": []
  }
 ],
 "metadata": {
  "kernelspec": {
   "display_name": "Python 3",
   "language": "python",
   "name": "python3"
  },
  "language_info": {
   "codemirror_mode": {
    "name": "ipython",
    "version": 3
   },
   "file_extension": ".py",
   "mimetype": "text/x-python",
   "name": "python",
   "nbconvert_exporter": "python",
   "pygments_lexer": "ipython3",
   "version": "3.10.12"
  }
 },
 "nbformat": 4,
 "nbformat_minor": 2
}
